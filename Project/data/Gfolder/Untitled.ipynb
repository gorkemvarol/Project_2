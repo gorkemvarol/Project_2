{
 "cells": [
  {
   "cell_type": "code",
   "execution_count": 1,
   "metadata": {},
   "outputs": [],
   "source": [
    "import sqlite3\n",
    "\n",
    "# Imports the method used for connecting to DBs\n",
    "from sqlalchemy import create_engine\n",
    "\n",
    "# Imports the methods needed to abstract classes into tables\n",
    "from sqlalchemy.ext.declarative import declarative_base\n",
    "\n",
    "# Allow us to declare column types\n",
    "from sqlalchemy import Column, Integer, String, Float "
   ]
  },
  {
   "cell_type": "code",
   "execution_count": 2,
   "metadata": {},
   "outputs": [],
   "source": [
    "#creating db\n",
    "conn = sqlite3.connect('project2.db')\n",
    "engine = create_engine((\"sqlite:///project2.db\"))"
   ]
  },
  {
   "cell_type": "code",
   "execution_count": 4,
   "metadata": {},
   "outputs": [],
   "source": [
    "# Sets an object to utilize the default declarative base in SQL Alchemy\n",
    "Base = declarative_base()\n",
    "\n",
    "\n",
    "class Forgot_p(Base):\n",
    "    __tablename__ = 'forgot_p'\n",
    "    id = Column(Integer, primary_key=True)\n",
    "    firstname = Column(String(255))\n",
    "    lastname = Column(String(255))\n",
    "    email = Column(String(255))\n",
    "    \n",
    "class Register(Base):\n",
    "    __tablename__ = 'register'\n",
    "    id = Column(Integer, primary_key=True)\n",
    "    firstname = Column(String(255))\n",
    "    lastname = Column(String(255))\n",
    "    password = Column(String(255))\n",
    "    confirmed_password = Column(String(255))\n",
    "    \n",
    "\n",
    "class Students(Base):\n",
    "    __tablename__ = 'students'\n",
    "    id = Column(Integer, primary_key=True)\n",
    "    firstname = Column(String(255))\n",
    "    lastname = Column(String(255))\n",
    "    email = Column(String(255))\n",
    "    subject = Column(String(255))\n",
    "    location_name = Column(String(500))\n",
    "    address = Column(String(500))\n",
    "    \n",
    "\n",
    "class Study_group(Base):\n",
    "    __tablename__ = 'Study_group'\n",
    "    id = Column(Integer, primary_key=True)\n",
    "    school = Column(String(500))\n",
    "    subject = Column(String(500))\n",
    "    level = int\n",
    "    when = Column(String(250))\n",
    "    where = Column(String(250))\n",
    "    group_partner = bool\n",
    "    \n",
    "    \n",
    "class Study_partner(Base):\n",
    "    __tablename__ = 'Study_partner'\n",
    "    id = Column(Integer, primary_key=True)\n",
    "    school = Column(String(500))\n",
    "    subject = Column(String(500))\n",
    "    level = int\n",
    "    when = Column(String(250))\n",
    "    where = Column(String(250))\n",
    "    group_partner = bool\n",
    "    \n",
    "    \n",
    "class University(Base):\n",
    "    __tablename__ = 'University'\n",
    "    id = Column(Integer, primary_key=True)\n",
    "    location_name = Column(String(500))\n",
    "    address = Column(String(500))\n",
    "    lat = Column(String(250))\n",
    "    long = Column(String(250))\n",
    "\n",
    "    \n",
    "        \n",
    "    \n",
    "    \n"
   ]
  },
  {
   "cell_type": "code",
   "execution_count": 5,
   "metadata": {},
   "outputs": [],
   "source": [
    "student1 = Register(firstname='Gorkem', lastname='Varol',password='yooy',confirmed_password='yooy')"
   ]
  },
  {
   "cell_type": "code",
   "execution_count": 6,
   "metadata": {},
   "outputs": [],
   "source": [
    "Base.metadata.create_all(engine)\n",
    "\n"
   ]
  },
  {
   "cell_type": "code",
   "execution_count": 7,
   "metadata": {},
   "outputs": [],
   "source": [
    "from sqlalchemy.orm import Session\n",
    "session = Session(bind=engine)"
   ]
  },
  {
   "cell_type": "code",
   "execution_count": 8,
   "metadata": {},
   "outputs": [],
   "source": [
    "session.add(student1)"
   ]
  },
  {
   "cell_type": "code",
   "execution_count": 9,
   "metadata": {},
   "outputs": [
    {
     "name": "stdout",
     "output_type": "stream",
     "text": [
      "Gorkem\n"
     ]
    }
   ],
   "source": [
    "student_list = session.query(Register)\n",
    "for student in student_list:\n",
    "    print(student.firstname)"
   ]
  },
  {
   "cell_type": "code",
   "execution_count": null,
   "metadata": {},
   "outputs": [],
   "source": []
  },
  {
   "cell_type": "code",
   "execution_count": null,
   "metadata": {},
   "outputs": [],
   "source": []
  }
 ],
 "metadata": {
  "kernelspec": {
   "display_name": "Python 3",
   "language": "python",
   "name": "python3"
  },
  "language_info": {
   "codemirror_mode": {
    "name": "ipython",
    "version": 3
   },
   "file_extension": ".py",
   "mimetype": "text/x-python",
   "name": "python",
   "nbconvert_exporter": "python",
   "pygments_lexer": "ipython3",
   "version": "3.8.5"
  }
 },
 "nbformat": 4,
 "nbformat_minor": 4
}
